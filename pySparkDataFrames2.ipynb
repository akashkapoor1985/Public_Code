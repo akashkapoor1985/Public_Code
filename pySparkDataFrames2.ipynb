{
  "nbformat": 4,
  "nbformat_minor": 0,
  "metadata": {
    "colab": {
      "name": "pySparkDataFrames2.ipynb",
      "provenance": [],
      "authorship_tag": "ABX9TyN4yTrAoQ0xdGD99qo3JtBw",
      "include_colab_link": true
    },
    "kernelspec": {
      "name": "python3",
      "display_name": "Python 3"
    },
    "language_info": {
      "name": "python"
    }
  },
  "cells": [
    {
      "cell_type": "markdown",
      "metadata": {
        "id": "view-in-github",
        "colab_type": "text"
      },
      "source": [
        "<a href=\"https://colab.research.google.com/github/akashkapoor1985/Public_Code/blob/master/pySparkDataFrames2.ipynb\" target=\"_parent\"><img src=\"https://colab.research.google.com/assets/colab-badge.svg\" alt=\"Open In Colab\"/></a>"
      ]
    },
    {
      "cell_type": "code",
      "metadata": {
        "colab": {
          "base_uri": "https://localhost:8080/"
        },
        "id": "URDzY0B3Q17R",
        "outputId": "3fa98cff-d541-439e-a076-1fdf29a9addc"
      },
      "source": [
        "pip install pyspark"
      ],
      "execution_count": 1,
      "outputs": [
        {
          "output_type": "stream",
          "name": "stdout",
          "text": [
            "Collecting pyspark\n",
            "  Downloading pyspark-3.1.2.tar.gz (212.4 MB)\n",
            "\u001b[K     |████████████████████████████████| 212.4 MB 65 kB/s \n",
            "\u001b[?25hCollecting py4j==0.10.9\n",
            "  Downloading py4j-0.10.9-py2.py3-none-any.whl (198 kB)\n",
            "\u001b[K     |████████████████████████████████| 198 kB 44.0 MB/s \n",
            "\u001b[?25hBuilding wheels for collected packages: pyspark\n",
            "  Building wheel for pyspark (setup.py) ... \u001b[?25l\u001b[?25hdone\n",
            "  Created wheel for pyspark: filename=pyspark-3.1.2-py2.py3-none-any.whl size=212880768 sha256=993cc11f2b1912bc8bcb73f52692c4b987dc591d967baf882d31330d07fd2330\n",
            "  Stored in directory: /root/.cache/pip/wheels/a5/0a/c1/9561f6fecb759579a7d863dcd846daaa95f598744e71b02c77\n",
            "Successfully built pyspark\n",
            "Installing collected packages: py4j, pyspark\n",
            "Successfully installed py4j-0.10.9 pyspark-3.1.2\n"
          ]
        }
      ]
    },
    {
      "cell_type": "code",
      "metadata": {
        "colab": {
          "base_uri": "https://localhost:8080/"
        },
        "id": "Yw-kb4L2RgWM",
        "outputId": "38d1db26-a914-4573-c68d-f19c738cda44"
      },
      "source": [
        "#Converting to Spark types\n",
        "from pyspark.sql.functions import lit\n",
        "from pyspark.sql import Row\n",
        "from pyspark.sql import SparkSession\n",
        "from pyspark.sql.types import StringType, LongType, StructType, StructField\n",
        "spark = SparkSession.builder.appName(\"secondApp\").getOrCreate()\n",
        "\n",
        "row1 = Row(\"James\", \"Bond\", 1)\n",
        "row2 = Row(\"Tom\", \"Cruise\", 2)\n",
        "\n",
        "mySchema = StructType([\n",
        "                       \n",
        "                       StructField(\"First_name\", StringType(), True),\n",
        "                       StructField(\"Last_Name\", StringType(), True),\n",
        "                       StructField(\"Count\", LongType(), False)\n",
        "])\n",
        "\n",
        "df = spark.createDataFrame([row1,row2], schema = mySchema)\n",
        "\n",
        "df.select(\"First_Name\",lit(5), lit(\"five\"), lit(5.9)).show()"
      ],
      "execution_count": 2,
      "outputs": [
        {
          "output_type": "stream",
          "name": "stdout",
          "text": [
            "+----------+---+----+---+\n",
            "|First_Name|  5|five|5.9|\n",
            "+----------+---+----+---+\n",
            "|     James|  5|five|5.9|\n",
            "|       Tom|  5|five|5.9|\n",
            "+----------+---+----+---+\n",
            "\n"
          ]
        }
      ]
    },
    {
      "cell_type": "code",
      "metadata": {
        "colab": {
          "base_uri": "https://localhost:8080/"
        },
        "id": "_UrFjjZyVu3c",
        "outputId": "fae552db-0fb9-4b57-dfd3-b2a6ef9c583d"
      },
      "source": [
        "from pyspark.sql.functions import col\n",
        "df.where(col(\"First_Name\")==\"James\").select(\"Last_Name\").show(5, True)"
      ],
      "execution_count": 3,
      "outputs": [
        {
          "output_type": "stream",
          "name": "stdout",
          "text": [
            "+---------+\n",
            "|Last_Name|\n",
            "+---------+\n",
            "|     Bond|\n",
            "+---------+\n",
            "\n"
          ]
        }
      ]
    },
    {
      "cell_type": "code",
      "metadata": {
        "colab": {
          "base_uri": "https://localhost:8080/"
        },
        "id": "7Z2zbvhgXcAc",
        "outputId": "bbf6e3e3-d780-4e90-d367-72b22ed21416"
      },
      "source": [
        "df.where(\"Count <> 1\").show()"
      ],
      "execution_count": 4,
      "outputs": [
        {
          "output_type": "stream",
          "name": "stdout",
          "text": [
            "+----------+---------+-----+\n",
            "|First_name|Last_Name|Count|\n",
            "+----------+---------+-----+\n",
            "|       Tom|   Cruise|    2|\n",
            "+----------+---------+-----+\n",
            "\n"
          ]
        }
      ]
    }
  ]
}